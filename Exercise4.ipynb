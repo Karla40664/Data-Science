{
 "cells": [
  {
   "cell_type": "markdown",
   "metadata": {},
   "source": [
    "### Dataset Flights\n",
    "\n",
    "Se plantean nuevas hipótesis de datos que ya se limpiaron previamente."
   ]
  },
  {
   "cell_type": "code",
   "execution_count": 15,
   "metadata": {},
   "outputs": [],
   "source": [
    "import pandas as pd\n",
    "\n",
    "df_flights = pd.read_csv('data/flights.csv')\n",
    "\n",
    "df_flights.loc[df_flights['DepDel15'].isnull(), 'DepDel15'] = df_flights.loc[df_flights['DepDel15'].isnull(), 'DepDelay'].apply(lambda x: 1 if x >= 15 else 0)\n",
    "\n",
    "#Bounds for DepDelay\n",
    "Q1_dep = df_flights['DepDelay'].quantile(0.25)\n",
    "Q3_dep = df_flights['DepDelay'].quantile(0.75)\n",
    "IQR_dep = Q3_dep - Q1_dep\n",
    "lower_bound_dep = Q1_dep - 1.5 * IQR_dep\n",
    "upper_bound_dep = Q3_dep + 1.5 * IQR_dep\n",
    "\n",
    "#Bounds for ArrDelay\n",
    "Q1_arr = df_flights['ArrDelay'].quantile(0.25)\n",
    "Q3_arr = df_flights['ArrDelay'].quantile(0.75)\n",
    "IQR_arr = Q3_arr - Q1_arr\n",
    "lower_bound_arr = Q1_arr - 1.5 * IQR_arr\n",
    "upper_bound_arr = Q3_arr + 1.5 * IQR_arr\n",
    "\n",
    "#Remove outliers from both DepDelay and ArrDelay\n",
    "df_flights_cleaned = df_flights[\n",
    "    (df_flights['DepDelay'] >= lower_bound_dep) & (df_flights['DepDelay'] <= upper_bound_dep) &\n",
    "    (df_flights['ArrDelay'] >= lower_bound_arr) & (df_flights['ArrDelay'] <= upper_bound_arr)\n",
    "]"
   ]
  },
  {
   "cell_type": "code",
   "execution_count": 16,
   "metadata": {},
   "outputs": [
    {
     "data": {
      "text/html": [
       "<div>\n",
       "<style scoped>\n",
       "    .dataframe tbody tr th:only-of-type {\n",
       "        vertical-align: middle;\n",
       "    }\n",
       "\n",
       "    .dataframe tbody tr th {\n",
       "        vertical-align: top;\n",
       "    }\n",
       "\n",
       "    .dataframe thead th {\n",
       "        text-align: right;\n",
       "    }\n",
       "</style>\n",
       "<table border=\"1\" class=\"dataframe\">\n",
       "  <thead>\n",
       "    <tr style=\"text-align: right;\">\n",
       "      <th></th>\n",
       "      <th>Year</th>\n",
       "      <th>Month</th>\n",
       "      <th>DayofMonth</th>\n",
       "      <th>DayOfWeek</th>\n",
       "      <th>Carrier</th>\n",
       "      <th>OriginAirportID</th>\n",
       "      <th>OriginAirportName</th>\n",
       "      <th>OriginCity</th>\n",
       "      <th>OriginState</th>\n",
       "      <th>DestAirportID</th>\n",
       "      <th>DestAirportName</th>\n",
       "      <th>DestCity</th>\n",
       "      <th>DestState</th>\n",
       "      <th>CRSDepTime</th>\n",
       "      <th>DepDelay</th>\n",
       "      <th>DepDel15</th>\n",
       "      <th>CRSArrTime</th>\n",
       "      <th>ArrDelay</th>\n",
       "      <th>ArrDel15</th>\n",
       "      <th>Cancelled</th>\n",
       "    </tr>\n",
       "  </thead>\n",
       "  <tbody>\n",
       "    <tr>\n",
       "      <th>0</th>\n",
       "      <td>2013</td>\n",
       "      <td>9</td>\n",
       "      <td>16</td>\n",
       "      <td>1</td>\n",
       "      <td>DL</td>\n",
       "      <td>15304</td>\n",
       "      <td>Tampa International</td>\n",
       "      <td>Tampa</td>\n",
       "      <td>FL</td>\n",
       "      <td>12478</td>\n",
       "      <td>John F. Kennedy International</td>\n",
       "      <td>New York</td>\n",
       "      <td>NY</td>\n",
       "      <td>1539</td>\n",
       "      <td>4</td>\n",
       "      <td>0.0</td>\n",
       "      <td>1824</td>\n",
       "      <td>13</td>\n",
       "      <td>0</td>\n",
       "      <td>0</td>\n",
       "    </tr>\n",
       "    <tr>\n",
       "      <th>1</th>\n",
       "      <td>2013</td>\n",
       "      <td>9</td>\n",
       "      <td>23</td>\n",
       "      <td>1</td>\n",
       "      <td>WN</td>\n",
       "      <td>14122</td>\n",
       "      <td>Pittsburgh International</td>\n",
       "      <td>Pittsburgh</td>\n",
       "      <td>PA</td>\n",
       "      <td>13232</td>\n",
       "      <td>Chicago Midway International</td>\n",
       "      <td>Chicago</td>\n",
       "      <td>IL</td>\n",
       "      <td>710</td>\n",
       "      <td>3</td>\n",
       "      <td>0.0</td>\n",
       "      <td>740</td>\n",
       "      <td>22</td>\n",
       "      <td>1</td>\n",
       "      <td>0</td>\n",
       "    </tr>\n",
       "    <tr>\n",
       "      <th>2</th>\n",
       "      <td>2013</td>\n",
       "      <td>9</td>\n",
       "      <td>7</td>\n",
       "      <td>6</td>\n",
       "      <td>AS</td>\n",
       "      <td>14747</td>\n",
       "      <td>Seattle/Tacoma International</td>\n",
       "      <td>Seattle</td>\n",
       "      <td>WA</td>\n",
       "      <td>11278</td>\n",
       "      <td>Ronald Reagan Washington National</td>\n",
       "      <td>Washington</td>\n",
       "      <td>DC</td>\n",
       "      <td>810</td>\n",
       "      <td>-3</td>\n",
       "      <td>0.0</td>\n",
       "      <td>1614</td>\n",
       "      <td>-7</td>\n",
       "      <td>0</td>\n",
       "      <td>0</td>\n",
       "    </tr>\n",
       "    <tr>\n",
       "      <th>4</th>\n",
       "      <td>2013</td>\n",
       "      <td>5</td>\n",
       "      <td>16</td>\n",
       "      <td>4</td>\n",
       "      <td>DL</td>\n",
       "      <td>13931</td>\n",
       "      <td>Norfolk International</td>\n",
       "      <td>Norfolk</td>\n",
       "      <td>VA</td>\n",
       "      <td>10397</td>\n",
       "      <td>Hartsfield-Jackson Atlanta International</td>\n",
       "      <td>Atlanta</td>\n",
       "      <td>GA</td>\n",
       "      <td>545</td>\n",
       "      <td>-1</td>\n",
       "      <td>0.0</td>\n",
       "      <td>728</td>\n",
       "      <td>-9</td>\n",
       "      <td>0</td>\n",
       "      <td>0</td>\n",
       "    </tr>\n",
       "    <tr>\n",
       "      <th>6</th>\n",
       "      <td>2013</td>\n",
       "      <td>10</td>\n",
       "      <td>6</td>\n",
       "      <td>7</td>\n",
       "      <td>WN</td>\n",
       "      <td>13796</td>\n",
       "      <td>Metropolitan Oakland International</td>\n",
       "      <td>Oakland</td>\n",
       "      <td>CA</td>\n",
       "      <td>12191</td>\n",
       "      <td>William P Hobby</td>\n",
       "      <td>Houston</td>\n",
       "      <td>TX</td>\n",
       "      <td>630</td>\n",
       "      <td>-1</td>\n",
       "      <td>0.0</td>\n",
       "      <td>1210</td>\n",
       "      <td>-3</td>\n",
       "      <td>0</td>\n",
       "      <td>0</td>\n",
       "    </tr>\n",
       "  </tbody>\n",
       "</table>\n",
       "</div>"
      ],
      "text/plain": [
       "   Year  Month  DayofMonth  DayOfWeek Carrier  OriginAirportID  \\\n",
       "0  2013      9          16          1      DL            15304   \n",
       "1  2013      9          23          1      WN            14122   \n",
       "2  2013      9           7          6      AS            14747   \n",
       "4  2013      5          16          4      DL            13931   \n",
       "6  2013     10           6          7      WN            13796   \n",
       "\n",
       "                    OriginAirportName  OriginCity OriginState  DestAirportID  \\\n",
       "0                 Tampa International       Tampa          FL          12478   \n",
       "1            Pittsburgh International  Pittsburgh          PA          13232   \n",
       "2        Seattle/Tacoma International     Seattle          WA          11278   \n",
       "4               Norfolk International     Norfolk          VA          10397   \n",
       "6  Metropolitan Oakland International     Oakland          CA          12191   \n",
       "\n",
       "                            DestAirportName    DestCity DestState  CRSDepTime  \\\n",
       "0             John F. Kennedy International    New York        NY        1539   \n",
       "1              Chicago Midway International     Chicago        IL         710   \n",
       "2         Ronald Reagan Washington National  Washington        DC         810   \n",
       "4  Hartsfield-Jackson Atlanta International     Atlanta        GA         545   \n",
       "6                           William P Hobby     Houston        TX         630   \n",
       "\n",
       "   DepDelay  DepDel15  CRSArrTime  ArrDelay  ArrDel15  Cancelled  \n",
       "0         4       0.0        1824        13         0          0  \n",
       "1         3       0.0         740        22         1          0  \n",
       "2        -3       0.0        1614        -7         0          0  \n",
       "4        -1       0.0         728        -9         0          0  \n",
       "6        -1       0.0        1210        -3         0          0  "
      ]
     },
     "execution_count": 16,
     "metadata": {},
     "output_type": "execute_result"
    }
   ],
   "source": [
    "df_flights_cleaned.head()"
   ]
  },
  {
   "cell_type": "markdown",
   "metadata": {},
   "source": [
    "## Pruebas de hipótesis"
   ]
  },
  {
   "cell_type": "markdown",
   "metadata": {},
   "source": [
    "#### **`1. ¿Es el retraso promedio en la salida (DepDelay) mayor a 10 minutos?`**"
   ]
  },
  {
   "cell_type": "markdown",
   "metadata": {},
   "source": [
    "**1.1 Planteamiento de hipótesis**\n",
    "\n",
    "- **Hipótesis nula ($H_0$)**: El retraso promedio en la salida es menor o igual a 10 minutos. ($H_0: \\mu \\leq 10$)\n",
    "- **Hipótesis alternativa ($H_1$)**: El retraso promedio en la salida es mayor a 10 minutos. ($H_1: \\mu > 10$)\n",
    "\n"
   ]
  },
  {
   "cell_type": "code",
   "execution_count": 17,
   "metadata": {},
   "outputs": [
    {
     "data": {
      "text/plain": [
       "np.float64(0.3734467194459452)"
      ]
     },
     "execution_count": 17,
     "metadata": {},
     "output_type": "execute_result"
    }
   ],
   "source": [
    "# Calcular la media de DepDelay (retraso en la salida)\n",
    "media_dep_delay = df_flights_cleaned['DepDelay'].mean()\n",
    "media_dep_delay"
   ]
  },
  {
   "cell_type": "markdown",
   "metadata": {},
   "source": [
    "**1.2 Prueba t de una muestra**\n",
    "\n",
    "Aplicamos la **prueba t de Student** usando la siguiente fórmula:\n",
    "\n",
    "$$\n",
    "t = \\frac{\\bar{x} - \\mu_0}{\\frac{s}{\\sqrt{n}}}\n",
    "$$\n",
    "\n",
    "Donde:\n",
    "- $\\bar{x}$ es la media muestral (media de los retrasos en la salida).\n",
    "- $\\mu_0$ es la media teórica (10 minutos).\n",
    "- $s$ es la desviación estándar de la muestra.\n",
    "- $n$ es el tamaño de la muestra.\n",
    "\n",
    "Esta fórmula nos da el valor del estadístico t, que usaremos para obtener el valor p (p-value) y decidir si rechazamos o no la hipótesis nula.\n"
   ]
  },
  {
   "cell_type": "code",
   "execution_count": 18,
   "metadata": {},
   "outputs": [
    {
     "data": {
      "text/plain": [
       "(np.float64(-581.2526354067811), np.float64(0.0))"
      ]
     },
     "execution_count": 18,
     "metadata": {},
     "output_type": "execute_result"
    }
   ],
   "source": [
    "from scipy import stats\n",
    "\n",
    "# Aplicar la prueba t de una muestra\n",
    "t_statistic, p_value = stats.ttest_1samp(df_flights_cleaned['DepDelay'], 10)\n",
    "\n",
    "# Mostrar los resultados\n",
    "t_statistic, p_value\n"
   ]
  },
  {
   "cell_type": "markdown",
   "metadata": {},
   "source": [
    "**1.3 Interpretación del resultado**:\n",
    "\n",
    "El valor p obtenido nos permitirá rechazar o no la hipótesis nula:\n",
    "- Si el valor p es menor que 0.05, rechazamos la hipótesis nula y concluimos que el retraso promedio es significativamente mayor a 10 minutos.\n",
    "- Si el valor p es mayor o igual a 0.05, no podemos rechazar la hipótesis nula.\n",
    "\n",
    "En este caso, se usará una prueba **unilateral** porque la hipótesis alternativa plantea que el retraso promedio es mayor (no simplemente diferente).\n"
   ]
  },
  {
   "cell_type": "code",
   "execution_count": 19,
   "metadata": {},
   "outputs": [
    {
     "name": "stdout",
     "output_type": "stream",
     "text": [
      "No rechazamos la hipótesis nula: no hay evidencia suficiente para decir que el retraso promedio es mayor a 10 minutos.\n"
     ]
    }
   ],
   "source": [
    "# Interpretación del valor p\n",
    "if p_value / 2 < 0.05 and t_statistic > 0:\n",
    "    print(\"Rechazamos la hipótesis nula: el retraso promedio es significativamente mayor a 10 minutos.\")\n",
    "else:\n",
    "    print(\"No rechazamos la hipótesis nula: no hay evidencia suficiente para decir que el retraso promedio es mayor a 10 minutos.\")\n"
   ]
  },
  {
   "cell_type": "markdown",
   "metadata": {},
   "source": [
    "#### **`2. ¿Es el retraso promedio en la llegada (ArrDelay) menor o igual a 5 minutos?`**\n",
    "\n",
    "\n"
   ]
  },
  {
   "cell_type": "markdown",
   "metadata": {},
   "source": [
    "**2.1 Planteamiento de hipótesis**\n",
    "\n",
    "- **Hipótesis nula ($H_0$)**: El retraso promedio en la llegada es menor o igual a 5 minutos. ($H_0: \\mu \\leq 5$)\n",
    "- **Hipótesis alternativa ($H_1$)**: El retraso promedio en la llegada es mayor a 5 minutos. ($H_1: \\mu > 5$)\n",
    "\n",
    "En este caso, queremos evaluar si el retraso promedio en la llegada de los vuelos es mayor a 5 minutos."
   ]
  },
  {
   "cell_type": "code",
   "execution_count": 20,
   "metadata": {},
   "outputs": [
    {
     "data": {
      "text/plain": [
       "np.float64(-4.029842555526722)"
      ]
     },
     "execution_count": 20,
     "metadata": {},
     "output_type": "execute_result"
    }
   ],
   "source": [
    "# Calcular la media de ArrDelay (retraso en la llegada)\n",
    "media_arr_delay = df_flights_cleaned['ArrDelay'].mean()\n",
    "media_arr_delay"
   ]
  },
  {
   "cell_type": "markdown",
   "metadata": {},
   "source": [
    "**2.2Prueba t de una muestra**\n",
    "\n",
    "Aplicamos la **prueba t de Student** usando la siguiente fórmula:\n",
    "\n",
    "$$\n",
    "t = \\frac{\\bar{x} - \\mu_0}{\\frac{s}{\\sqrt{n}}}\n",
    "$$\n",
    "\n",
    "Donde:\n",
    "- $\\bar{x}$ es la media muestral (media de los retrasos en la llegada).\n",
    "- $\\mu_0$ es la media teórica (5 minutos).\n",
    "- $s$ es la desviación estándar de la muestra.\n",
    "- $n$ es el tamaño de la muestra.\n",
    "\n",
    "Esta fórmula nos da el valor del estadístico t, que usaremos para obtener el valor p (p-value) y decidir si rechazamos o no la hipótesis nula.\n"
   ]
  },
  {
   "cell_type": "code",
   "execution_count": 21,
   "metadata": {},
   "outputs": [
    {
     "data": {
      "text/plain": [
       "(np.float64(-337.8163162820931), np.float64(0.0))"
      ]
     },
     "execution_count": 21,
     "metadata": {},
     "output_type": "execute_result"
    }
   ],
   "source": [
    "from scipy import stats\n",
    "\n",
    "# Aplicar la prueba t de una muestra\n",
    "t_statistic, p_value = stats.ttest_1samp(df_flights_cleaned['ArrDelay'], 5)\n",
    "\n",
    "# Mostrar los resultados\n",
    "t_statistic, p_value\n"
   ]
  },
  {
   "cell_type": "markdown",
   "metadata": {},
   "source": [
    "**2.3 Interpretación del resultado**:\n",
    "\n",
    "El valor p obtenido nos permitirá rechazar o no la hipótesis nula:\n",
    "- Si el valor p es menor que 0.05, rechazamos la hipótesis nula y concluimos que el retraso promedio en la llegada es significativamente mayor a 5 minutos.\n",
    "- Si el valor p es mayor o igual a 0.05, no podemos rechazar la hipótesis nula.\n",
    "\n",
    "En este caso, se usará una prueba **unilateral** porque la hipótesis alternativa plantea que el retraso promedio es mayor (no simplemente diferente).\n"
   ]
  },
  {
   "cell_type": "code",
   "execution_count": 22,
   "metadata": {},
   "outputs": [
    {
     "name": "stdout",
     "output_type": "stream",
     "text": [
      "No rechazamos la hipótesis nula: no hay evidencia suficiente para decir que el retraso promedio es mayor a 5 minutos.\n"
     ]
    }
   ],
   "source": [
    "# Interpretación del valor p\n",
    "if p_value / 2 < 0.05 and t_statistic > 0:\n",
    "    print(\"Rechazamos la hipótesis nula: el retraso promedio en la llegada es significativamente mayor a 5 minutos.\")\n",
    "else:\n",
    "    print(\"No rechazamos la hipótesis nula: no hay evidencia suficiente para decir que el retraso promedio es mayor a 5 minutos.\")\n"
   ]
  },
  {
   "cell_type": "markdown",
   "metadata": {},
   "source": [
    "#### **`3. ¿Es la desviación estándar de los retrasos en la salida (DepDelay) mayor que 12 minutos?`**\n",
    "\n",
    "**3.1 Planteamiento de hipótesis**\n",
    "\n",
    "- **Hipótesis nula ($H_0$)**: La desviación estándar de los retrasos en la salida es menor o igual a 12 minutos. ($H_0: \\sigma \\leq 12$)\n",
    "- **Hipótesis alternativa ($H_1$)**: La desviación estándar de los retrasos en la salida es mayor a 12 minutos. ($H_1: \\sigma > 12$)\n",
    "\n",
    "En este caso, queremos evaluar si la desviación estándar de los retrasos en la salida de los vuelos es mayor a 12 minutos.\n"
   ]
  },
  {
   "cell_type": "code",
   "execution_count": 23,
   "metadata": {},
   "outputs": [
    {
     "data": {
      "text/plain": [
       "np.float64(8.029744308838586)"
      ]
     },
     "execution_count": 23,
     "metadata": {},
     "output_type": "execute_result"
    }
   ],
   "source": [
    "# Calcular la desviación estándar de DepDelay (retraso en la salida)\n",
    "std_dep_delay = df_flights_cleaned['DepDelay'].std()\n",
    "std_dep_delay\n"
   ]
  },
  {
   "cell_type": "markdown",
   "metadata": {},
   "source": [
    "**3.2 Prueba chi-cuadrada**\n",
    "\n",
    "Aplicamos la **prueba chi-cuadrada** para la varianza usando la fórmula:\n",
    "\n",
    "$$\n",
    "\\chi^2 = \\frac{(n-1) \\cdot s^2}{\\sigma_0^2}\n",
    "$$\n",
    "\n",
    "Donde:\n",
    "- $n$ es el tamaño de la muestra.\n",
    "- $s^2$ es la varianza muestral (la desviación estándar muestral al cuadrado).\n",
    "- $\\sigma_0^2$ es la varianza teórica basada en 12 minutos (12^2 = 144).\n",
    "\n",
    "Esta fórmula nos da el valor del estadístico chi-cuadrado, que se compara con una distribución chi-cuadrada con $n-1$ grados de libertad para obtener el valor p.\n",
    "\n"
   ]
  },
  {
   "cell_type": "code",
   "execution_count": 24,
   "metadata": {},
   "outputs": [
    {
     "data": {
      "text/plain": [
       "(np.float64(105252.09708148224), np.float64(1.0))"
      ]
     },
     "execution_count": 24,
     "metadata": {},
     "output_type": "execute_result"
    }
   ],
   "source": [
    "import numpy as np\n",
    "from scipy.stats import chi2\n",
    "\n",
    "# Número de muestras (n)\n",
    "n = len(df_flights_cleaned['DepDelay'])\n",
    "\n",
    "# Varianza muestral\n",
    "var_muestral = std_dep_delay**2\n",
    "\n",
    "# Varianza teórica (12^2 = 144)\n",
    "var_teorica = 12**2\n",
    "\n",
    "# Estadístico chi-cuadrado\n",
    "chi_square_stat = (n - 1) * var_muestral / var_teorica\n",
    "\n",
    "# Grados de libertad\n",
    "gl = n - 1\n",
    "\n",
    "# Obtener el valor p para una prueba unilateral (mayor que)\n",
    "p_value = 1 - chi2.cdf(chi_square_stat, gl)\n",
    "\n",
    "# Mostrar el estadístico chi-cuadrado y el valor p\n",
    "chi_square_stat, p_value\n"
   ]
  },
  {
   "cell_type": "markdown",
   "metadata": {},
   "source": [
    "**3.3 Interpretación del resultado**:\n",
    "\n",
    "Con base en el valor p obtenido, tomamos una decisión sobre la hipótesis nula."
   ]
  },
  {
   "cell_type": "code",
   "execution_count": 25,
   "metadata": {},
   "outputs": [
    {
     "name": "stdout",
     "output_type": "stream",
     "text": [
      "No rechazamos la hipótesis nula: no hay evidencia suficiente para decir que la desviación estándar de los retrasos en la salida es mayor a 12 minutos.\n"
     ]
    }
   ],
   "source": [
    "# Interpretación del valor p\n",
    "if p_value < 0.05:\n",
    "    print(\"Rechazamos la hipótesis nula: la desviación estándar de los retrasos en la salida es significativamente mayor a 12 minutos.\")\n",
    "else:\n",
    "    print(\"No rechazamos la hipótesis nula: no hay evidencia suficiente para decir que la desviación estándar de los retrasos en la salida es mayor a 12 minutos.\")\n"
   ]
  }
 ],
 "metadata": {
  "kernelspec": {
   "display_name": "pythonEnv",
   "language": "python",
   "name": "python3"
  },
  "language_info": {
   "codemirror_mode": {
    "name": "ipython",
    "version": 3
   },
   "file_extension": ".py",
   "mimetype": "text/x-python",
   "name": "python",
   "nbconvert_exporter": "python",
   "pygments_lexer": "ipython3",
   "version": "3.12.5"
  }
 },
 "nbformat": 4,
 "nbformat_minor": 4
}
