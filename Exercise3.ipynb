{
 "cells": [
  {
   "cell_type": "markdown",
   "metadata": {},
   "source": [
    "### Generación de datos\n",
    "\n",
    "Se obtiene nombre, altura y sexo de los alumnos de la carrera de Software, y se organizan en un dataframe. "
   ]
  },
  {
   "cell_type": "code",
   "execution_count": 43,
   "metadata": {},
   "outputs": [
    {
     "data": {
      "text/html": [
       "<div>\n",
       "<style scoped>\n",
       "    .dataframe tbody tr th:only-of-type {\n",
       "        vertical-align: middle;\n",
       "    }\n",
       "\n",
       "    .dataframe tbody tr th {\n",
       "        vertical-align: top;\n",
       "    }\n",
       "\n",
       "    .dataframe thead th {\n",
       "        text-align: right;\n",
       "    }\n",
       "</style>\n",
       "<table border=\"1\" class=\"dataframe\">\n",
       "  <thead>\n",
       "    <tr style=\"text-align: right;\">\n",
       "      <th></th>\n",
       "      <th>nombre</th>\n",
       "      <th>estatura (cm)</th>\n",
       "      <th>sexo</th>\n",
       "    </tr>\n",
       "  </thead>\n",
       "  <tbody>\n",
       "    <tr>\n",
       "      <th>0</th>\n",
       "      <td>Fer</td>\n",
       "      <td>180</td>\n",
       "      <td>Hombre</td>\n",
       "    </tr>\n",
       "    <tr>\n",
       "      <th>1</th>\n",
       "      <td>Ale</td>\n",
       "      <td>170</td>\n",
       "      <td>Hombre</td>\n",
       "    </tr>\n",
       "    <tr>\n",
       "      <th>2</th>\n",
       "      <td>Alex Muñoz</td>\n",
       "      <td>170</td>\n",
       "      <td>Hombre</td>\n",
       "    </tr>\n",
       "    <tr>\n",
       "      <th>3</th>\n",
       "      <td>Gael</td>\n",
       "      <td>168</td>\n",
       "      <td>Hombre</td>\n",
       "    </tr>\n",
       "    <tr>\n",
       "      <th>4</th>\n",
       "      <td>Erick</td>\n",
       "      <td>165</td>\n",
       "      <td>Hombre</td>\n",
       "    </tr>\n",
       "    <tr>\n",
       "      <th>5</th>\n",
       "      <td>Angie</td>\n",
       "      <td>168</td>\n",
       "      <td>Mujer</td>\n",
       "    </tr>\n",
       "    <tr>\n",
       "      <th>6</th>\n",
       "      <td>Karla</td>\n",
       "      <td>170</td>\n",
       "      <td>Mujer</td>\n",
       "    </tr>\n",
       "    <tr>\n",
       "      <th>7</th>\n",
       "      <td>Angel</td>\n",
       "      <td>175</td>\n",
       "      <td>Hombre</td>\n",
       "    </tr>\n",
       "    <tr>\n",
       "      <th>8</th>\n",
       "      <td>Derik</td>\n",
       "      <td>174</td>\n",
       "      <td>Hombre</td>\n",
       "    </tr>\n",
       "    <tr>\n",
       "      <th>9</th>\n",
       "      <td>Jose Jacal</td>\n",
       "      <td>175</td>\n",
       "      <td>Hombre</td>\n",
       "    </tr>\n",
       "    <tr>\n",
       "      <th>10</th>\n",
       "      <td>Leo Dorantes</td>\n",
       "      <td>171</td>\n",
       "      <td>Hombre</td>\n",
       "    </tr>\n",
       "    <tr>\n",
       "      <th>11</th>\n",
       "      <td>Lalo</td>\n",
       "      <td>172</td>\n",
       "      <td>Hombre</td>\n",
       "    </tr>\n",
       "    <tr>\n",
       "      <th>12</th>\n",
       "      <td>Antonio</td>\n",
       "      <td>170</td>\n",
       "      <td>Hombre</td>\n",
       "    </tr>\n",
       "    <tr>\n",
       "      <th>13</th>\n",
       "      <td>Luis Hurtado</td>\n",
       "      <td>177</td>\n",
       "      <td>Hombre</td>\n",
       "    </tr>\n",
       "  </tbody>\n",
       "</table>\n",
       "</div>"
      ],
      "text/plain": [
       "          nombre  estatura (cm)    sexo\n",
       "0            Fer            180  Hombre\n",
       "1            Ale            170  Hombre\n",
       "2     Alex Muñoz            170  Hombre\n",
       "3           Gael            168  Hombre\n",
       "4          Erick            165  Hombre\n",
       "5          Angie            168   Mujer\n",
       "6          Karla            170   Mujer\n",
       "7          Angel            175  Hombre\n",
       "8          Derik            174  Hombre\n",
       "9     Jose Jacal            175  Hombre\n",
       "10  Leo Dorantes            171  Hombre\n",
       "11          Lalo            172  Hombre\n",
       "12       Antonio            170  Hombre\n",
       "13  Luis Hurtado            177  Hombre"
      ]
     },
     "execution_count": 43,
     "metadata": {},
     "output_type": "execute_result"
    }
   ],
   "source": [
    "import pandas as pd\n",
    "\n",
    "nombres = ['Fer', 'Ale', 'Alex Muñoz', 'Gael', 'Erick', 'Angie', 'Karla', 'Angel', \n",
    "           'Derik', 'Jose Jacal', 'Leo Dorantes', 'Lalo', 'Antonio', 'Luis Hurtado']\n",
    "\n",
    "estaturas = [180, 170, 170, 168, 165, 168, 170, 175, 174, 175, 171, 172, 170, 177]\n",
    "\n",
    "sexo = ['Hombre', 'Hombre', 'Hombre', 'Hombre', 'Hombre', 'Mujer', 'Mujer', 'Hombre', \n",
    "        'Hombre', 'Hombre', 'Hombre', 'Hombre', 'Hombre', 'Hombre']\n",
    "\n",
    "df = pd.DataFrame({'nombre': nombres, 'estatura (cm)': estaturas, 'sexo': sexo})\n",
    "\n",
    "df\n"
   ]
  },
  {
   "cell_type": "markdown",
   "metadata": {},
   "source": [
    "## Pruebas de hipótesis\n",
    "\n"
   ]
  },
  {
   "cell_type": "markdown",
   "metadata": {},
   "source": [
    "#### **`1. ¿Tienen los y las estudiantes una estatura media diferente de 175 cm?`**\n",
    "\n"
   ]
  },
  {
   "cell_type": "markdown",
   "metadata": {},
   "source": [
    "**1.1 Planteamiento de la hipótesis nula y alternativa**:\n",
    "\n",
    "La hipótesis nula es la que queremos desacreditar.\n",
    "\n",
    "   - **Hipótesis nula ($H_0$)**: La estatura media de los estudiantes es igual a 175 cm. ( $H_0$: $\\mu$ = 175 )\n",
    "\n",
    "La hipótesis alternativa es la posible verdad si se rechaza la hipótesis nula. \n",
    "\n",
    "   - **Hipótesis alternativa ($H_1$)**: La estatura media de los estudiantes es diferente de 175 cm. ( $H_1$: $\\mu$ $\\neq$ 175 )"
   ]
  },
  {
   "cell_type": "markdown",
   "metadata": {},
   "source": [
    "**1.2 Cálculo de la media y desviación estándar**:\n",
    "\n",
    "Calculamos la media y desviación estándar de las estaturas, y el tamaño de la muestra para continuar con la prueba de hipótesis.\n"
   ]
  },
  {
   "cell_type": "code",
   "execution_count": 44,
   "metadata": {},
   "outputs": [
    {
     "name": "stdout",
     "output_type": "stream",
     "text": [
      "Media de la estutatura:  171.79\n",
      "Desviación estándar de la estutatura:  4.0\n",
      "Tamaño de la muestra:  14\n"
     ]
    }
   ],
   "source": [
    "# Se calcula media y desviación estándar\n",
    "media_estatura = df['estatura (cm)'].mean()\n",
    "desviacion_estandar = df['estatura (cm)'].std()\n",
    "# Se obtiene el tamaño de la muestra\n",
    "n = len(df)\n",
    "\n",
    "print('Media de la estutatura: ', round(media_estatura,2))\n",
    "print('Desviación estándar de la estutatura: ', round(desviacion_estandar,2))\n",
    "print('Tamaño de la muestra: ', n)"
   ]
  },
  {
   "cell_type": "markdown",
   "metadata": {},
   "source": [
    "**1.3 Prueba t de student**:\n",
    "\n",
    "Aplicamos una **prueba t de Student** para una muestra, cuya fórmula es la siguiente:\n",
    "\n",
    "$$\n",
    "t = \\frac{\\bar{x} - \\mu_0}{\\frac{s}{\\sqrt{n}}}\n",
    "$$\n",
    "\n",
    "Donde:\n",
    "- $\\bar{x}$ es la media muestral (en este caso, la media de las estaturas que hemos calculado).\n",
    "- $\\mu_0$ es la media teórica, que en este caso es 175 cm.\n",
    "- $s$ es la desviación estándar de la muestra.\n",
    "- $n$ es el tamaño de la muestra.\n",
    "\n",
    "Esta fórmula nos da el valor del estadístico t, el cual se usa para determinar si hay una diferencia significativa entre la media muestral y la media teórica.\n",
    "\n",
    "\n"
   ]
  },
  {
   "cell_type": "code",
   "execution_count": 45,
   "metadata": {},
   "outputs": [
    {
     "name": "stdout",
     "output_type": "stream",
     "text": [
      "Estadístico t: -3.0041\n"
     ]
    }
   ],
   "source": [
    "import numpy as np\n",
    "\n",
    "mu_0 = 175\n",
    "ts= (media_estatura - mu_0) / (desviacion_estandar / np.sqrt(n))\n",
    "\n",
    "print('Estadístico t:',round(ts,4))"
   ]
  },
  {
   "cell_type": "markdown",
   "metadata": {},
   "source": [
    "**1.4 Grados de Libertad (df)**:\n",
    "\n",
    "Representan el número de valores independientes que pueden variar sin restricciones en un análisis estadístico.\n",
    "- En una prueba t de una muestra, se calcula como:\n",
    "\n",
    "$$df = n - 1$$\n",
    "\n"
   ]
  },
  {
   "cell_type": "code",
   "execution_count": 46,
   "metadata": {},
   "outputs": [
    {
     "data": {
      "text/plain": [
       "13"
      ]
     },
     "execution_count": 46,
     "metadata": {},
     "output_type": "execute_result"
    }
   ],
   "source": [
    "grados_libertad = n-1\n",
    "\n",
    "grados_libertad"
   ]
  },
  {
   "cell_type": "markdown",
   "metadata": {},
   "source": [
    "**1.5 P_value**:\n",
    "\n",
    "Mide la significancia estadística de los resultados de una prueba. Interpretación:\n",
    "\n",
    "  - **Valor p bajo** (p < 0.05 ): suficiente evidencia para rechazar la hipótesis nula (la media muestral es significativamente diferente de la media teórica).\n",
    "  - **Valor p alto**: no hay suficiente evidencia para rechazar la hipótesis nula (la media muestral podría ser similar a la media teórica).\n",
    "\n",
    "Los grados de libertad afectan la distribución t utilizada para calcular el valor p, que ayuda a determinar la significancia de los resultados. "
   ]
  },
  {
   "cell_type": "code",
   "execution_count": 47,
   "metadata": {},
   "outputs": [
    {
     "name": "stdout",
     "output_type": "stream",
     "text": [
      "Valor p: 0.0102\n"
     ]
    }
   ],
   "source": [
    "# Librería para trabajar con la distribución t de Student\n",
    "from scipy.stats import t\n",
    "\n",
    "# Se multiplica por 2 para obtener el valor p en una prueba bilateral\n",
    "p_value = 2 * (1 - t.cdf(np.abs(ts), grados_libertad))\n",
    "\n",
    "print('Valor p:', round(p_value,4))\n"
   ]
  },
  {
   "cell_type": "markdown",
   "metadata": {},
   "source": [
    "**1.6 Interpretación del resultado**:\n",
    "\n",
    "Con base en el valor p obtenido, tomamos una decisión sobre la hipótesis nula."
   ]
  },
  {
   "cell_type": "code",
   "execution_count": 48,
   "metadata": {},
   "outputs": [
    {
     "name": "stdout",
     "output_type": "stream",
     "text": [
      "Rechazamos la hipótesis nula: la estatura media es significativamente diferente de 175 cm.\n"
     ]
    }
   ],
   "source": [
    "# Interpretación del valor p\n",
    "if p_value < 0.05:\n",
    "    print(\"Rechazamos la hipótesis nula: la estatura media es significativamente diferente de 175 cm.\")\n",
    "else:\n",
    "    print(\"No rechazamos la hipótesis nula: no hay evidencia suficiente para decir que la estatura media es diferente de 175 cm.\")\n"
   ]
  },
  {
   "cell_type": "markdown",
   "metadata": {},
   "source": [
    "#### **`2. ¿Es la desviación estándar de su estatura igual a o menor que 10 cm?`**\n"
   ]
  },
  {
   "cell_type": "markdown",
   "metadata": {},
   "source": [
    "**2.1 Planteamiento de la hipótesis nula y alternativa**:\n",
    "\n",
    "- **Hipótesis nula ($H_0$)**: \n",
    "   - La hipótesis nula establece que la desviación estándar de la estatura de los estudiantes es **igual a 10 cm**. Es decir, no hay evidencia suficiente para suponer que la desviación estándar sea menor.\n",
    "   - **$H_0$: $\\sigma = 10$**\n",
    "\n",
    "- **Hipótesis alternativa ($H_1$)**: \n",
    "   - La hipótesis alternativa sugiere que la desviación estándar de la estatura de los estudiantes es **menor que 10 cm**. Esta hipótesis es lo que intentamos demostrar si rechazamos la nula.\n",
    "   - **$H_1$: $\\sigma < 10$**\n"
   ]
  },
  {
   "cell_type": "markdown",
   "metadata": {},
   "source": [
    "**2.2 Prueba de chi-cuadrado para la desviación estándar**\n",
    "\n",
    "Para evaluar si la desviación estándar de las estaturas es igual o menor que 10 cm, utilizaremos la prueba de **chi-cuadrado**. Esta prueba compara la varianza observada de la muestra con una varianza teórica y nos permite determinar si la diferencia es significativa.\n",
    "\n",
    "\n",
    "La fórmula para el estadístico de la prueba es:\n",
    "\n",
    "$$\n",
    "\\chi^2 = \\frac{(n-1) \\cdot s^2}{\\sigma_0^2}\n",
    "$$\n",
    "\n",
    "Donde:\n",
    "- $n$ es el tamaño de la muestra.\n",
    "- $s^2$ es la varianza muestral (calculada a partir de los datos).\n",
    "- $\\sigma_0^2$ es la varianza teórica (en este caso, $10^2 = 100$)."
   ]
  },
  {
   "cell_type": "code",
   "execution_count": 49,
   "metadata": {},
   "outputs": [
    {
     "name": "stdout",
     "output_type": "stream",
     "text": [
      "Estadístico chi-cuadrado: 2.08\n",
      "Valor p: 0.0003\n"
     ]
    }
   ],
   "source": [
    "from scipy.stats import chi2\n",
    "\n",
    "# 1. Calcular el tamaño de la muestra (n) y la varianza muestral (s^2)\n",
    "n = len(estaturas)\n",
    "varianza_muestral = np.var(estaturas, ddof=1)  # ddof=1 para calcular la varianza muestral\n",
    "\n",
    "# 2. Definir la varianza teórica (sigma_0^2 = 100)\n",
    "varianza_teorica = 10**2\n",
    "\n",
    "# 3. Calcular el estadístico chi-cuadrado (χ²)\n",
    "chi_square_statistic = (n - 1) * varianza_muestral / varianza_teorica\n",
    "\n",
    "# Mostrar el resultado del estadístico chi-cuadrado\n",
    "print(f'Estadístico chi-cuadrado: {round(chi_square_statistic,2)}')\n",
    "\n",
    "# 4. Grados de libertad (n - 1)\n",
    "gl = n - 1\n",
    "\n",
    "# 5. Calcular el p-valor usando la distribución chi-cuadrado\n",
    "p_value = chi2.cdf(chi_square_statistic, gl)\n",
    "\n",
    "# Mostrar el p-valor\n",
    "print(f'Valor p: {round(p_value,4)}')"
   ]
  },
  {
   "cell_type": "markdown",
   "metadata": {},
   "source": [
    "**2.3 Interpretación del resultado**\n",
    "\n",
    "- Si el **p-valor** es **menor** que 0.05, **rechazamos la hipótesis nula**, lo que indica que la desviación estándar de la estatura es significativamente menor que 10 cm.\n",
    "- Si el **p-valor** es **mayor** que 0.05, no podemos rechazar la hipótesis nula y concluimos que la desviación estándar no es significativamente diferente de 10 cm."
   ]
  },
  {
   "cell_type": "code",
   "execution_count": 50,
   "metadata": {},
   "outputs": [
    {
     "name": "stdout",
     "output_type": "stream",
     "text": [
      "Rechazamos la hipótesis nula: la desviación estándar de la estatura es significativamente menor que 10 cm.\n"
     ]
    }
   ],
   "source": [
    "# Interpretación del valor p\n",
    "if p_value < 0.05:\n",
    "    print(\"Rechazamos la hipótesis nula: la desviación estándar de la estatura es significativamente menor que 10 cm.\")\n",
    "else:\n",
    "    print(\"No rechazamos la hipótesis nula: no hay evidencia suficiente para decir que la desviación estándar es menor que 10 cm.\")\n"
   ]
  },
  {
   "cell_type": "markdown",
   "metadata": {},
   "source": [
    "\n",
    "#### **`3. ¿Es diferente la estatura promedio de las mujeres comparada con la de los hombres?`**\n",
    "\n"
   ]
  },
  {
   "cell_type": "markdown",
   "metadata": {},
   "source": [
    "**3.1 Planteamiento de la hipótesis nula y alternativa**:\n",
    "\n",
    "- **Hipótesis nula ($H_0$)**: La estatura promedio de las mujeres es igual a la de los hombres. ($\\mu_{mujeres} = \\mu_{hombres}$)\n",
    "- **Hipótesis alternativa ($H_1$)**: La estatura promedio de las mujeres es diferente a la de los hombres. ($\\mu_{mujeres} \\neq \\mu_{hombres}$)\n"
   ]
  },
  {
   "cell_type": "markdown",
   "metadata": {},
   "source": [
    "**3.2 Separar los datos por sexo**\n",
    "\n",
    "Dividimos las estaturas de los estudiantes en dos grupos: hombres y mujeres. Ahora tenemos dos muestras independientes.\n"
   ]
  },
  {
   "cell_type": "code",
   "execution_count": 51,
   "metadata": {},
   "outputs": [
    {
     "name": "stdout",
     "output_type": "stream",
     "text": [
      "Media de estatura de mujeres: 169.00 cm\n",
      "Media de estatura de hombres: 172.25 cm\n"
     ]
    }
   ],
   "source": [
    "# Dividir los datos entre hombres y mujeres\n",
    "mujeres = df[df['sexo'] == 'Mujer']['estatura (cm)']\n",
    "hombres = df[df['sexo'] == 'Hombre']['estatura (cm)']\n",
    "\n",
    "# Calcular y mostrar las estaturas medias de hombres y mujeres\n",
    "media_mujeres = mujeres.mean()\n",
    "media_hombres = hombres.mean()\n",
    "\n",
    "print(f\"Media de estatura de mujeres: {media_mujeres:.2f} cm\")\n",
    "\n",
    "print(f\"Media de estatura de hombres: {media_hombres:.2f} cm\")\n",
    "\n",
    "\n"
   ]
  },
  {
   "cell_type": "markdown",
   "metadata": {},
   "source": [
    "**3.3 Calcular el estadístico t**\n",
    "\n",
    "Usamos la fórmula de la prueba t de Student para dos muestras independientes:\n",
    "$$\n",
    "t = \\frac{\\bar{x}_1 - \\bar{x}_2}{\\sqrt{\\frac{s_1^2}{n_1} + \\frac{s_2^2}{n_2}}}\n",
    "$$\n",
    "Donde:\n",
    "- $\\bar{x}_1$ y $\\bar{x}_2$ son las medias de los grupos (mujeres y hombres).\n",
    "- $s_1^2$ y $s_2^2$ son las varianzas muestrales de ambos grupos.\n",
    "- $n_1$ y $n_2$ son los tamaños de cada muestra.\n",
    "\n",
    "Usaremos la función *ttest_ind* de **scipy** para calcular el estadístico t y el valor p.\n"
   ]
  },
  {
   "cell_type": "code",
   "execution_count": 52,
   "metadata": {},
   "outputs": [
    {
     "name": "stdout",
     "output_type": "stream",
     "text": [
      "Estadístico t: -1.07\n",
      "Valor p: 0.3062\n"
     ]
    }
   ],
   "source": [
    "from scipy.stats import ttest_ind\n",
    "\n",
    "# Aplicar la prueba t de Student para dos muestras independientes\n",
    "t_stat, p_value = ttest_ind(mujeres, hombres)\n",
    "\n",
    "# Mostrar resultados\n",
    "print(f'Estadístico t: {round(t_stat,2)}')\n",
    "print(f'Valor p: {round(p_value,4)}')\n"
   ]
  },
  {
   "cell_type": "markdown",
   "metadata": {},
   "source": [
    "**3.4 Interpretación del resultado**:\n",
    "\n",
    "Con base en el valor p obtenido, tomamos una decisión sobre la hipótesis nula."
   ]
  },
  {
   "cell_type": "code",
   "execution_count": 53,
   "metadata": {},
   "outputs": [
    {
     "name": "stdout",
     "output_type": "stream",
     "text": [
      "No rechazamos la hipótesis nula: no hay evidencia suficiente para decir que las estaturas promedio de hombres y mujeres son diferentes.\n"
     ]
    }
   ],
   "source": [
    "# Interpretación del valor p\n",
    "if p_value < 0.05:\n",
    "    print(\"Rechazamos la hipótesis nula: la estatura promedio de hombres y mujeres es significativamente diferente.\")\n",
    "else:\n",
    "    print(\"No rechazamos la hipótesis nula: no hay evidencia suficiente para decir que las estaturas promedio de hombres y mujeres son diferentes.\")\n"
   ]
  }
 ],
 "metadata": {
  "kernelspec": {
   "display_name": "pythonEnv",
   "language": "python",
   "name": "python3"
  },
  "language_info": {
   "codemirror_mode": {
    "name": "ipython",
    "version": 3
   },
   "file_extension": ".py",
   "mimetype": "text/x-python",
   "name": "python",
   "nbconvert_exporter": "python",
   "pygments_lexer": "ipython3",
   "version": "3.12.5"
  }
 },
 "nbformat": 4,
 "nbformat_minor": 2
}
