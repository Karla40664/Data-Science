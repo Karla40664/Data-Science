{
 "cells": [
  {
   "cell_type": "markdown",
   "metadata": {},
   "source": [
    "### Generación de datos\n",
    "\n",
    "Se obtiene nombre, altura y sexo de los alumnos de la carrera de Software, y se organizan en un dataframe. "
   ]
  },
  {
   "cell_type": "code",
   "execution_count": 20,
   "metadata": {},
   "outputs": [
    {
     "data": {
      "text/html": [
       "<div>\n",
       "<style scoped>\n",
       "    .dataframe tbody tr th:only-of-type {\n",
       "        vertical-align: middle;\n",
       "    }\n",
       "\n",
       "    .dataframe tbody tr th {\n",
       "        vertical-align: top;\n",
       "    }\n",
       "\n",
       "    .dataframe thead th {\n",
       "        text-align: right;\n",
       "    }\n",
       "</style>\n",
       "<table border=\"1\" class=\"dataframe\">\n",
       "  <thead>\n",
       "    <tr style=\"text-align: right;\">\n",
       "      <th></th>\n",
       "      <th>nombre</th>\n",
       "      <th>estatura (cm)</th>\n",
       "      <th>sexo</th>\n",
       "    </tr>\n",
       "  </thead>\n",
       "  <tbody>\n",
       "    <tr>\n",
       "      <th>0</th>\n",
       "      <td>Fer</td>\n",
       "      <td>180</td>\n",
       "      <td>Hombre</td>\n",
       "    </tr>\n",
       "    <tr>\n",
       "      <th>1</th>\n",
       "      <td>Ale</td>\n",
       "      <td>170</td>\n",
       "      <td>Hombre</td>\n",
       "    </tr>\n",
       "    <tr>\n",
       "      <th>2</th>\n",
       "      <td>Alex Muñoz</td>\n",
       "      <td>170</td>\n",
       "      <td>Hombre</td>\n",
       "    </tr>\n",
       "    <tr>\n",
       "      <th>3</th>\n",
       "      <td>Gael</td>\n",
       "      <td>168</td>\n",
       "      <td>Hombre</td>\n",
       "    </tr>\n",
       "    <tr>\n",
       "      <th>4</th>\n",
       "      <td>Erick</td>\n",
       "      <td>165</td>\n",
       "      <td>Hombre</td>\n",
       "    </tr>\n",
       "    <tr>\n",
       "      <th>5</th>\n",
       "      <td>Angie</td>\n",
       "      <td>168</td>\n",
       "      <td>Mujer</td>\n",
       "    </tr>\n",
       "    <tr>\n",
       "      <th>6</th>\n",
       "      <td>Karla</td>\n",
       "      <td>170</td>\n",
       "      <td>Mujer</td>\n",
       "    </tr>\n",
       "    <tr>\n",
       "      <th>7</th>\n",
       "      <td>Angel</td>\n",
       "      <td>175</td>\n",
       "      <td>Hombre</td>\n",
       "    </tr>\n",
       "    <tr>\n",
       "      <th>8</th>\n",
       "      <td>Derik</td>\n",
       "      <td>174</td>\n",
       "      <td>Hombre</td>\n",
       "    </tr>\n",
       "    <tr>\n",
       "      <th>9</th>\n",
       "      <td>Jose Jacal</td>\n",
       "      <td>175</td>\n",
       "      <td>Hombre</td>\n",
       "    </tr>\n",
       "    <tr>\n",
       "      <th>10</th>\n",
       "      <td>Leo Dorantes</td>\n",
       "      <td>171</td>\n",
       "      <td>Hombre</td>\n",
       "    </tr>\n",
       "    <tr>\n",
       "      <th>11</th>\n",
       "      <td>Lalo</td>\n",
       "      <td>172</td>\n",
       "      <td>Hombre</td>\n",
       "    </tr>\n",
       "    <tr>\n",
       "      <th>12</th>\n",
       "      <td>Antonio</td>\n",
       "      <td>170</td>\n",
       "      <td>Hombre</td>\n",
       "    </tr>\n",
       "    <tr>\n",
       "      <th>13</th>\n",
       "      <td>Luis Hurtado</td>\n",
       "      <td>177</td>\n",
       "      <td>Hombre</td>\n",
       "    </tr>\n",
       "  </tbody>\n",
       "</table>\n",
       "</div>"
      ],
      "text/plain": [
       "          nombre  estatura (cm)    sexo\n",
       "0            Fer            180  Hombre\n",
       "1            Ale            170  Hombre\n",
       "2     Alex Muñoz            170  Hombre\n",
       "3           Gael            168  Hombre\n",
       "4          Erick            165  Hombre\n",
       "5          Angie            168   Mujer\n",
       "6          Karla            170   Mujer\n",
       "7          Angel            175  Hombre\n",
       "8          Derik            174  Hombre\n",
       "9     Jose Jacal            175  Hombre\n",
       "10  Leo Dorantes            171  Hombre\n",
       "11          Lalo            172  Hombre\n",
       "12       Antonio            170  Hombre\n",
       "13  Luis Hurtado            177  Hombre"
      ]
     },
     "execution_count": 20,
     "metadata": {},
     "output_type": "execute_result"
    }
   ],
   "source": [
    "import pandas as pd\n",
    "\n",
    "nombres = ['Fer', 'Ale', 'Alex Muñoz', 'Gael', 'Erick', 'Angie', 'Karla', 'Angel', \n",
    "           'Derik', 'Jose Jacal', 'Leo Dorantes', 'Lalo', 'Antonio', 'Luis Hurtado']\n",
    "\n",
    "estaturas = [180, 170, 170, 168, 165, 168, 170, 175, 174, 175, 171, 172, 170, 177]\n",
    "\n",
    "sexo = ['Hombre', 'Hombre', 'Hombre', 'Hombre', 'Hombre', 'Mujer', 'Mujer', 'Hombre', \n",
    "        'Hombre', 'Hombre', 'Hombre', 'Hombre', 'Hombre', 'Hombre']\n",
    "\n",
    "df = pd.DataFrame({'nombre': nombres, 'estatura (cm)': estaturas, 'sexo': sexo})\n",
    "\n",
    "df\n"
   ]
  },
  {
   "cell_type": "markdown",
   "metadata": {},
   "source": [
    "## Pruebas de hipótesis\n",
    "\n"
   ]
  },
  {
   "cell_type": "markdown",
   "metadata": {},
   "source": [
    "#### **`1. ¿Tienen los y las estudiantes una estatura media diferente de 175 cm?`**\n",
    "\n"
   ]
  },
  {
   "cell_type": "markdown",
   "metadata": {},
   "source": [
    "**1.1 Planteamiento de la hipótesis nula y alternativa**:\n",
    "\n",
    "La hipótesis nula es la que queremos desacreditar.\n",
    "\n",
    "   - **Hipótesis nula ($H_0$)**: La estatura media de los estudiantes es igual a 175 cm. ( $H_0$: $\\mu$ = 175 )\n",
    "\n",
    "La hipótesis alternativa es la posible verdad si se rechaza la hipótesis nula. \n",
    "\n",
    "   - **Hipótesis alternativa ($H_1$)**: La estatura media de los estudiantes es diferente de 175 cm. ( $H_1$: $\\mu$ $\\neq$ 175 )"
   ]
  },
  {
   "cell_type": "markdown",
   "metadata": {},
   "source": [
    "**1.2 Cálculo de la media y desviación estándar**:\n",
    "\n",
    "Calculamos la media y desviación estándar de las estaturas, y el tamaño de la muestra para continuar con la prueba de hipótesis.\n"
   ]
  },
  {
   "cell_type": "code",
   "execution_count": 21,
   "metadata": {},
   "outputs": [
    {
     "name": "stdout",
     "output_type": "stream",
     "text": [
      "Media de la estutatura:  171.79\n",
      "Desviación estándar de la estutatura:  4.0\n",
      "Tamaño de la muestra:  14\n"
     ]
    }
   ],
   "source": [
    "# Se calcula media y desviación estándar\n",
    "media_estatura = df['estatura (cm)'].mean()\n",
    "desviacion_estandar = df['estatura (cm)'].std()\n",
    "# Se obtiene el tamaño de la muestra\n",
    "n = len(df)\n",
    "\n",
    "print('Media de la estutatura: ', round(media_estatura,2))\n",
    "print('Desviación estándar de la estutatura: ', round(desviacion_estandar,2))\n",
    "print('Tamaño de la muestra: ', n)"
   ]
  },
  {
   "cell_type": "markdown",
   "metadata": {},
   "source": [
    "**1.3 Prueba t de student**:\n",
    "\n",
    "Aplicamos una **prueba t de Student** para una muestra, cuya fórmula es la siguiente:\n",
    "\n",
    "$$\n",
    "t = \\frac{\\bar{x} - \\mu_0}{\\frac{s}{\\sqrt{n}}}\n",
    "$$\n",
    "\n",
    "Donde:\n",
    "- $\\bar{x}$ es la media muestral (en este caso, la media de las estaturas que hemos calculado).\n",
    "- $\\mu_0$ es la media teórica, que en este caso es 175 cm.\n",
    "- $s$ es la desviación estándar de la muestra.\n",
    "- $n$ es el tamaño de la muestra.\n",
    "\n",
    "Esta fórmula nos da el valor del estadístico t, el cual se usa para determinar si hay una diferencia significativa entre la media muestral y la media teórica.\n",
    "\n",
    "\n"
   ]
  },
  {
   "cell_type": "code",
   "execution_count": 30,
   "metadata": {},
   "outputs": [
    {
     "name": "stdout",
     "output_type": "stream",
     "text": [
      "Estadístico t: -3.0041\n"
     ]
    }
   ],
   "source": [
    "import numpy as np\n",
    "\n",
    "mu_0 = 175\n",
    "ts= (media_estatura - mu_0) / (desviacion_estandar / np.sqrt(n))\n",
    "\n",
    "print('Estadístico t:',round(ts,4))"
   ]
  },
  {
   "cell_type": "markdown",
   "metadata": {},
   "source": [
    "**1.4 Grados de Libertad (df)**:\n",
    "\n",
    "Representan el número de valores independientes que pueden variar sin restricciones en un análisis estadístico.\n",
    "- En una prueba t de una muestra, se calcula como:\n",
    "\n",
    "$$df = n - 1$$\n",
    "\n"
   ]
  },
  {
   "cell_type": "code",
   "execution_count": 26,
   "metadata": {},
   "outputs": [
    {
     "data": {
      "text/plain": [
       "13"
      ]
     },
     "execution_count": 26,
     "metadata": {},
     "output_type": "execute_result"
    }
   ],
   "source": [
    "grados_libertad = n-1\n",
    "\n",
    "grados_libertad"
   ]
  },
  {
   "cell_type": "markdown",
   "metadata": {},
   "source": [
    "**1.5 P_value**:\n",
    "\n",
    "Mide la significancia estadística de los resultados de una prueba. Interpretación:\n",
    "\n",
    "  - **Valor p bajo** (p < 0.05 ): suficiente evidencia para rechazar la hipótesis nula (la media muestral es significativamente diferente de la media teórica).\n",
    "  - **Valor p alto**: no hay suficiente evidencia para rechazar la hipótesis nula (la media muestral podría ser similar a la media teórica).\n",
    "\n",
    "Los grados de libertad afectan la distribución t utilizada para calcular el valor p, que ayuda a determinar la significancia de los resultados. "
   ]
  },
  {
   "cell_type": "code",
   "execution_count": 33,
   "metadata": {},
   "outputs": [
    {
     "name": "stdout",
     "output_type": "stream",
     "text": [
      "Valor p: 0.0102\n"
     ]
    }
   ],
   "source": [
    "# Librería para trabajar con la distribución t de Student\n",
    "from scipy.stats import t\n",
    "\n",
    "# Se multiplica por 2 para obtener el valor p en una prueba bilateral\n",
    "p_value = 2 * (1 - t.cdf(np.abs(ts), grados_libertad))\n",
    "\n",
    "print('Valor p:', round(p_value,4))\n"
   ]
  },
  {
   "cell_type": "markdown",
   "metadata": {},
   "source": [
    "**1.6 Interpretación del resultado**:\n",
    "\n",
    "Con base en el valor p obtenido, tomamos una decisión sobre la hipótesis nula."
   ]
  },
  {
   "cell_type": "code",
   "execution_count": 34,
   "metadata": {},
   "outputs": [
    {
     "name": "stdout",
     "output_type": "stream",
     "text": [
      "Rechazamos la hipótesis nula: la estatura media es significativamente diferente de 175 cm.\n"
     ]
    }
   ],
   "source": [
    "# Interpretación del valor p\n",
    "if p_value < 0.05:\n",
    "    print(\"Rechazamos la hipótesis nula: la estatura media es significativamente diferente de 175 cm.\")\n",
    "else:\n",
    "    print(\"No rechazamos la hipótesis nula: no hay evidencia suficiente para decir que la estatura media es diferente de 175 cm.\")\n"
   ]
  },
  {
   "cell_type": "markdown",
   "metadata": {},
   "source": [
    "`2. ¿Es la desviación estándar de su estatura igual a o menor que 10 cm?`\n"
   ]
  },
  {
   "cell_type": "markdown",
   "metadata": {},
   "source": [
    "`3. ¿Es diferente la estatura promedio de las mujeres comparada con la de los hombres?`\n",
    "\n"
   ]
  }
 ],
 "metadata": {
  "kernelspec": {
   "display_name": "pythonEnv",
   "language": "python",
   "name": "python3"
  },
  "language_info": {
   "codemirror_mode": {
    "name": "ipython",
    "version": 3
   },
   "file_extension": ".py",
   "mimetype": "text/x-python",
   "name": "python",
   "nbconvert_exporter": "python",
   "pygments_lexer": "ipython3",
   "version": "3.12.5"
  }
 },
 "nbformat": 4,
 "nbformat_minor": 2
}
