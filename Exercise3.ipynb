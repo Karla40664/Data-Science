{
 "cells": [
  {
   "cell_type": "markdown",
   "metadata": {},
   "source": [
    "### Generación de datos\n",
    "\n",
    "Se obtiene nombre, altura y sexo de los alumnos de la carrera de Software, y se organizan en un dataframe. "
   ]
  },
  {
   "cell_type": "code",
   "execution_count": 1,
   "metadata": {},
   "outputs": [
    {
     "data": {
      "text/html": [
       "<div>\n",
       "<style scoped>\n",
       "    .dataframe tbody tr th:only-of-type {\n",
       "        vertical-align: middle;\n",
       "    }\n",
       "\n",
       "    .dataframe tbody tr th {\n",
       "        vertical-align: top;\n",
       "    }\n",
       "\n",
       "    .dataframe thead th {\n",
       "        text-align: right;\n",
       "    }\n",
       "</style>\n",
       "<table border=\"1\" class=\"dataframe\">\n",
       "  <thead>\n",
       "    <tr style=\"text-align: right;\">\n",
       "      <th></th>\n",
       "      <th>nombre</th>\n",
       "      <th>estatura (cm)</th>\n",
       "      <th>sexo</th>\n",
       "    </tr>\n",
       "  </thead>\n",
       "  <tbody>\n",
       "    <tr>\n",
       "      <th>0</th>\n",
       "      <td>Fer</td>\n",
       "      <td>180</td>\n",
       "      <td>Hombre</td>\n",
       "    </tr>\n",
       "    <tr>\n",
       "      <th>1</th>\n",
       "      <td>Ale</td>\n",
       "      <td>170</td>\n",
       "      <td>Hombre</td>\n",
       "    </tr>\n",
       "    <tr>\n",
       "      <th>2</th>\n",
       "      <td>Alex Muñoz</td>\n",
       "      <td>170</td>\n",
       "      <td>Hombre</td>\n",
       "    </tr>\n",
       "    <tr>\n",
       "      <th>3</th>\n",
       "      <td>Gael</td>\n",
       "      <td>168</td>\n",
       "      <td>Hombre</td>\n",
       "    </tr>\n",
       "    <tr>\n",
       "      <th>4</th>\n",
       "      <td>Erick</td>\n",
       "      <td>165</td>\n",
       "      <td>Hombre</td>\n",
       "    </tr>\n",
       "    <tr>\n",
       "      <th>5</th>\n",
       "      <td>Angie</td>\n",
       "      <td>168</td>\n",
       "      <td>Mujer</td>\n",
       "    </tr>\n",
       "    <tr>\n",
       "      <th>6</th>\n",
       "      <td>Karla</td>\n",
       "      <td>170</td>\n",
       "      <td>Mujer</td>\n",
       "    </tr>\n",
       "    <tr>\n",
       "      <th>7</th>\n",
       "      <td>Angel</td>\n",
       "      <td>175</td>\n",
       "      <td>Hombre</td>\n",
       "    </tr>\n",
       "    <tr>\n",
       "      <th>8</th>\n",
       "      <td>Derik</td>\n",
       "      <td>174</td>\n",
       "      <td>Hombre</td>\n",
       "    </tr>\n",
       "    <tr>\n",
       "      <th>9</th>\n",
       "      <td>Jose Jacal</td>\n",
       "      <td>175</td>\n",
       "      <td>Hombre</td>\n",
       "    </tr>\n",
       "    <tr>\n",
       "      <th>10</th>\n",
       "      <td>Leo Dorantes</td>\n",
       "      <td>171</td>\n",
       "      <td>Hombre</td>\n",
       "    </tr>\n",
       "    <tr>\n",
       "      <th>11</th>\n",
       "      <td>Lalo</td>\n",
       "      <td>172</td>\n",
       "      <td>Hombre</td>\n",
       "    </tr>\n",
       "    <tr>\n",
       "      <th>12</th>\n",
       "      <td>Antonio</td>\n",
       "      <td>170</td>\n",
       "      <td>Hombre</td>\n",
       "    </tr>\n",
       "    <tr>\n",
       "      <th>13</th>\n",
       "      <td>Luis Hurtado</td>\n",
       "      <td>177</td>\n",
       "      <td>Hombre</td>\n",
       "    </tr>\n",
       "  </tbody>\n",
       "</table>\n",
       "</div>"
      ],
      "text/plain": [
       "          nombre  estatura (cm)    sexo\n",
       "0            Fer            180  Hombre\n",
       "1            Ale            170  Hombre\n",
       "2     Alex Muñoz            170  Hombre\n",
       "3           Gael            168  Hombre\n",
       "4          Erick            165  Hombre\n",
       "5          Angie            168   Mujer\n",
       "6          Karla            170   Mujer\n",
       "7          Angel            175  Hombre\n",
       "8          Derik            174  Hombre\n",
       "9     Jose Jacal            175  Hombre\n",
       "10  Leo Dorantes            171  Hombre\n",
       "11          Lalo            172  Hombre\n",
       "12       Antonio            170  Hombre\n",
       "13  Luis Hurtado            177  Hombre"
      ]
     },
     "execution_count": 1,
     "metadata": {},
     "output_type": "execute_result"
    }
   ],
   "source": [
    "import pandas as pd\n",
    "\n",
    "nombres = ['Fer', 'Ale', 'Alex Muñoz', 'Gael', 'Erick', 'Angie', 'Karla', 'Angel', \n",
    "           'Derik', 'Jose Jacal', 'Leo Dorantes', 'Lalo', 'Antonio', 'Luis Hurtado']\n",
    "\n",
    "estaturas = [180, 170, 170, 168, 165, 168, 170, 175, 174, 175, 171, 172, 170, 177]\n",
    "\n",
    "sexo = ['Hombre', 'Hombre', 'Hombre', 'Hombre', 'Hombre', 'Mujer', 'Mujer', 'Hombre', \n",
    "        'Hombre', 'Hombre', 'Hombre', 'Hombre', 'Hombre', 'Hombre']\n",
    "\n",
    "df = pd.DataFrame({'nombre': nombres, 'estatura (cm)': estaturas, 'sexo': sexo})\n",
    "\n",
    "df\n"
   ]
  },
  {
   "cell_type": "markdown",
   "metadata": {},
   "source": [
    "### Pruebas de hipótesis\n",
    "\n",
    "Para cada hipótesis planteada se generan estadísticos de prueba que rechazan o no a las mismas."
   ]
  },
  {
   "cell_type": "markdown",
   "metadata": {},
   "source": [
    "`1. ¿Tienen las estudiantes una estatura media diferente de 175 cm?`\n",
    "\n",
    "Sí, las estudiantes tienen una estatura media diferente de 175 cm."
   ]
  },
  {
   "cell_type": "code",
   "execution_count": 4,
   "metadata": {},
   "outputs": [
    {
     "name": "stdout",
     "output_type": "stream",
     "text": [
      "Estatura media de las mujeres:  169.0 cm\n"
     ]
    }
   ],
   "source": [
    "mujeres_df = df[df['sexo'] == 'Mujer']\n",
    "\n",
    "estatura_media_mujeres = mujeres_df['estatura (cm)'].mean()\n",
    "\n",
    "print(\"Estatura media de las mujeres: \", estatura_media_mujeres, \"cm\")"
   ]
  },
  {
   "cell_type": "markdown",
   "metadata": {},
   "source": [
    "`¿Es la desviación estándar de su estatura igual a o menor que 10 cm?`\n",
    "\n",
    "Sí, la desviación estándar de su estatura es menor que 10 cm."
   ]
  },
  {
   "cell_type": "code",
   "execution_count": 6,
   "metadata": {},
   "outputs": [
    {
     "name": "stdout",
     "output_type": "stream",
     "text": [
      "Desviación estándar de la estatura de las mujeres:  1.41 cm\n"
     ]
    }
   ],
   "source": [
    "std_estatura_mujeres = mujeres_df['estatura (cm)'].std()\n",
    "\n",
    "print(\"Desviación estándar de la estatura de las mujeres: \", round(std_estatura_mujeres,2), \"cm\")"
   ]
  },
  {
   "cell_type": "markdown",
   "metadata": {},
   "source": [
    "`¿Es diferente la estatura promedio de las mujeres comparada con la de los hombres?`\n",
    "\n",
    "Sí, la estatura promedio de las mujeres comparada con la de los hombres es diferente."
   ]
  },
  {
   "cell_type": "code",
   "execution_count": 7,
   "metadata": {},
   "outputs": [
    {
     "name": "stdout",
     "output_type": "stream",
     "text": [
      "Estatura media de los hombres:  172.25 cm\n"
     ]
    }
   ],
   "source": [
    "hombres_df = df[df['sexo'] == 'Hombre']\n",
    "\n",
    "estatura_media_hombres = hombres_df['estatura (cm)'].mean()\n",
    "\n",
    "print(\"Estatura media de los hombres: \", estatura_media_hombres, \"cm\")"
   ]
  }
 ],
 "metadata": {
  "kernelspec": {
   "display_name": "pythonEnv",
   "language": "python",
   "name": "python3"
  },
  "language_info": {
   "codemirror_mode": {
    "name": "ipython",
    "version": 3
   },
   "file_extension": ".py",
   "mimetype": "text/x-python",
   "name": "python",
   "nbconvert_exporter": "python",
   "pygments_lexer": "ipython3",
   "version": "3.12.5"
  }
 },
 "nbformat": 4,
 "nbformat_minor": 2
}
